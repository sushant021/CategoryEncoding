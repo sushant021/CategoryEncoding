{
 "cells": [
  {
   "cell_type": "markdown",
   "id": "16d6adb1",
   "metadata": {
    "papermill": {
     "duration": 0.0078,
     "end_time": "2023-01-03T19:53:39.177297",
     "exception": false,
     "start_time": "2023-01-03T19:53:39.169497",
     "status": "completed"
    },
    "tags": []
   },
   "source": [
    "Melbourne Housing Dataset is a common dataset every Kaggler goes through when they start with the introductory machine learning course. But the dataset has one issue that is not addressed in the course, and with good reasons, and that is too many categorical features. Handling categorical features is taught in the Intermediate course.  \n",
    "\n",
    "This dataset has so many categorical features and some of the features have too many categories. And in the introductory course, only numerical features are used to keep things simple. So, in this notebook, I've demonstrated the use of One Hot Encoding and Target Encoding for other categorical features.\n",
    "\n",
    "# Objective\n",
    "\n",
    "The objective of this notebook is to demonstrate how One Hot Encoding and Target Encoding can be used to convert Categorical features to Numerical features so that they can be further used for other purposes to make our model better. \n",
    "\n",
    "The objective in this notebook is not to get the best result. Getting best result will take a lot more than encoding, and more after encoding(for eg. checking correlations, smoothing, tuning hyperparameters etc.). "
   ]
  },
  {
   "cell_type": "markdown",
   "id": "ec40c9a4",
   "metadata": {
    "papermill": {
     "duration": 0.006795,
     "end_time": "2023-01-03T19:53:39.191458",
     "exception": false,
     "start_time": "2023-01-03T19:53:39.184663",
     "status": "completed"
    },
    "tags": []
   },
   "source": [
    "# Setup and Import Libraries"
   ]
  },
  {
   "cell_type": "code",
   "execution_count": 1,
   "id": "188a5eca",
   "metadata": {
    "_cell_guid": "b1076dfc-b9ad-4769-8c92-a6c4dae69d19",
    "_uuid": "8f2839f25d086af736a60e9eeb907d3b93b6e0e5",
    "execution": {
     "iopub.execute_input": "2023-01-03T19:53:39.206437Z",
     "iopub.status.busy": "2023-01-03T19:53:39.205987Z",
     "iopub.status.idle": "2023-01-03T19:53:40.593543Z",
     "shell.execute_reply": "2023-01-03T19:53:40.592241Z"
    },
    "papermill": {
     "duration": 1.39967,
     "end_time": "2023-01-03T19:53:40.597701",
     "exception": false,
     "start_time": "2023-01-03T19:53:39.198031",
     "status": "completed"
    },
    "tags": []
   },
   "outputs": [
    {
     "name": "stdout",
     "output_type": "stream",
     "text": [
      "/kaggle/input/melbourne-housing-snapshot/melb_data.csv\n"
     ]
    }
   ],
   "source": [
    "# This Python 3 environment comes with many helpful analytics libraries installed\n",
    "# It is defined by the kaggle/python Docker image: https://github.com/kaggle/docker-python\n",
    "# For example, here's several helpful packages to load\n",
    "\n",
    "import pandas as pd\n",
    "import numpy as np\n",
    "from sklearn.model_selection import train_test_split\n",
    "from sklearn.metrics import mean_absolute_error\n",
    "from sklearn.preprocessing import OneHotEncoder\n",
    "from sklearn.ensemble import RandomForestRegressor\n",
    "\n",
    "# Input data files are available in the read-only \"../input/\" directory\n",
    "# For example, running this (by clicking run or pressing Shift+Enter) will list all files under the input directory\n",
    "\n",
    "import os\n",
    "for dirname, _, filenames in os.walk('/kaggle/input'):\n",
    "    for filename in filenames:\n",
    "        print(os.path.join(dirname, filename))\n",
    "\n",
    "# You can write up to 20GB to the current directory (/kaggle/working/) that gets preserved as output when you create a version using \"Save & Run All\" \n",
    "# You can also write temporary files to /kaggle/temp/, but they won't be saved outside of the current session"
   ]
  },
  {
   "cell_type": "markdown",
   "id": "08746391",
   "metadata": {
    "papermill": {
     "duration": 0.006709,
     "end_time": "2023-01-03T19:53:40.614559",
     "exception": false,
     "start_time": "2023-01-03T19:53:40.607850",
     "status": "completed"
    },
    "tags": []
   },
   "source": [
    "# Load The Dataset"
   ]
  },
  {
   "cell_type": "code",
   "execution_count": 2,
   "id": "8d40da5c",
   "metadata": {
    "execution": {
     "iopub.execute_input": "2023-01-03T19:53:40.629699Z",
     "iopub.status.busy": "2023-01-03T19:53:40.629309Z",
     "iopub.status.idle": "2023-01-03T19:53:40.776817Z",
     "shell.execute_reply": "2023-01-03T19:53:40.775590Z"
    },
    "papermill": {
     "duration": 0.15812,
     "end_time": "2023-01-03T19:53:40.779562",
     "exception": false,
     "start_time": "2023-01-03T19:53:40.621442",
     "status": "completed"
    },
    "tags": []
   },
   "outputs": [
    {
     "data": {
      "text/html": [
       "<div>\n",
       "<style scoped>\n",
       "    .dataframe tbody tr th:only-of-type {\n",
       "        vertical-align: middle;\n",
       "    }\n",
       "\n",
       "    .dataframe tbody tr th {\n",
       "        vertical-align: top;\n",
       "    }\n",
       "\n",
       "    .dataframe thead th {\n",
       "        text-align: right;\n",
       "    }\n",
       "</style>\n",
       "<table border=\"1\" class=\"dataframe\">\n",
       "  <thead>\n",
       "    <tr style=\"text-align: right;\">\n",
       "      <th></th>\n",
       "      <th>Suburb</th>\n",
       "      <th>Address</th>\n",
       "      <th>Rooms</th>\n",
       "      <th>Type</th>\n",
       "      <th>Price</th>\n",
       "      <th>Method</th>\n",
       "      <th>SellerG</th>\n",
       "      <th>Date</th>\n",
       "      <th>Distance</th>\n",
       "      <th>Postcode</th>\n",
       "      <th>...</th>\n",
       "      <th>Bathroom</th>\n",
       "      <th>Car</th>\n",
       "      <th>Landsize</th>\n",
       "      <th>BuildingArea</th>\n",
       "      <th>YearBuilt</th>\n",
       "      <th>CouncilArea</th>\n",
       "      <th>Lattitude</th>\n",
       "      <th>Longtitude</th>\n",
       "      <th>Regionname</th>\n",
       "      <th>Propertycount</th>\n",
       "    </tr>\n",
       "  </thead>\n",
       "  <tbody>\n",
       "    <tr>\n",
       "      <th>0</th>\n",
       "      <td>Abbotsford</td>\n",
       "      <td>25 Bloomburg St</td>\n",
       "      <td>2</td>\n",
       "      <td>h</td>\n",
       "      <td>1035000.0</td>\n",
       "      <td>S</td>\n",
       "      <td>Biggin</td>\n",
       "      <td>4/02/2016</td>\n",
       "      <td>2.5</td>\n",
       "      <td>3067.0</td>\n",
       "      <td>...</td>\n",
       "      <td>1.0</td>\n",
       "      <td>0.0</td>\n",
       "      <td>156.0</td>\n",
       "      <td>79.0</td>\n",
       "      <td>1900.0</td>\n",
       "      <td>Yarra</td>\n",
       "      <td>-37.8079</td>\n",
       "      <td>144.9934</td>\n",
       "      <td>Northern Metropolitan</td>\n",
       "      <td>4019.0</td>\n",
       "    </tr>\n",
       "    <tr>\n",
       "      <th>1</th>\n",
       "      <td>Abbotsford</td>\n",
       "      <td>5 Charles St</td>\n",
       "      <td>3</td>\n",
       "      <td>h</td>\n",
       "      <td>1465000.0</td>\n",
       "      <td>SP</td>\n",
       "      <td>Biggin</td>\n",
       "      <td>4/03/2017</td>\n",
       "      <td>2.5</td>\n",
       "      <td>3067.0</td>\n",
       "      <td>...</td>\n",
       "      <td>2.0</td>\n",
       "      <td>0.0</td>\n",
       "      <td>134.0</td>\n",
       "      <td>150.0</td>\n",
       "      <td>1900.0</td>\n",
       "      <td>Yarra</td>\n",
       "      <td>-37.8093</td>\n",
       "      <td>144.9944</td>\n",
       "      <td>Northern Metropolitan</td>\n",
       "      <td>4019.0</td>\n",
       "    </tr>\n",
       "    <tr>\n",
       "      <th>2</th>\n",
       "      <td>Abbotsford</td>\n",
       "      <td>55a Park St</td>\n",
       "      <td>4</td>\n",
       "      <td>h</td>\n",
       "      <td>1600000.0</td>\n",
       "      <td>VB</td>\n",
       "      <td>Nelson</td>\n",
       "      <td>4/06/2016</td>\n",
       "      <td>2.5</td>\n",
       "      <td>3067.0</td>\n",
       "      <td>...</td>\n",
       "      <td>1.0</td>\n",
       "      <td>2.0</td>\n",
       "      <td>120.0</td>\n",
       "      <td>142.0</td>\n",
       "      <td>2014.0</td>\n",
       "      <td>Yarra</td>\n",
       "      <td>-37.8072</td>\n",
       "      <td>144.9941</td>\n",
       "      <td>Northern Metropolitan</td>\n",
       "      <td>4019.0</td>\n",
       "    </tr>\n",
       "    <tr>\n",
       "      <th>3</th>\n",
       "      <td>Abbotsford</td>\n",
       "      <td>124 Yarra St</td>\n",
       "      <td>3</td>\n",
       "      <td>h</td>\n",
       "      <td>1876000.0</td>\n",
       "      <td>S</td>\n",
       "      <td>Nelson</td>\n",
       "      <td>7/05/2016</td>\n",
       "      <td>2.5</td>\n",
       "      <td>3067.0</td>\n",
       "      <td>...</td>\n",
       "      <td>2.0</td>\n",
       "      <td>0.0</td>\n",
       "      <td>245.0</td>\n",
       "      <td>210.0</td>\n",
       "      <td>1910.0</td>\n",
       "      <td>Yarra</td>\n",
       "      <td>-37.8024</td>\n",
       "      <td>144.9993</td>\n",
       "      <td>Northern Metropolitan</td>\n",
       "      <td>4019.0</td>\n",
       "    </tr>\n",
       "    <tr>\n",
       "      <th>4</th>\n",
       "      <td>Abbotsford</td>\n",
       "      <td>98 Charles St</td>\n",
       "      <td>2</td>\n",
       "      <td>h</td>\n",
       "      <td>1636000.0</td>\n",
       "      <td>S</td>\n",
       "      <td>Nelson</td>\n",
       "      <td>8/10/2016</td>\n",
       "      <td>2.5</td>\n",
       "      <td>3067.0</td>\n",
       "      <td>...</td>\n",
       "      <td>1.0</td>\n",
       "      <td>2.0</td>\n",
       "      <td>256.0</td>\n",
       "      <td>107.0</td>\n",
       "      <td>1890.0</td>\n",
       "      <td>Yarra</td>\n",
       "      <td>-37.8060</td>\n",
       "      <td>144.9954</td>\n",
       "      <td>Northern Metropolitan</td>\n",
       "      <td>4019.0</td>\n",
       "    </tr>\n",
       "  </tbody>\n",
       "</table>\n",
       "<p>5 rows × 21 columns</p>\n",
       "</div>"
      ],
      "text/plain": [
       "       Suburb          Address  Rooms Type      Price Method SellerG  \\\n",
       "0  Abbotsford  25 Bloomburg St      2    h  1035000.0      S  Biggin   \n",
       "1  Abbotsford     5 Charles St      3    h  1465000.0     SP  Biggin   \n",
       "2  Abbotsford      55a Park St      4    h  1600000.0     VB  Nelson   \n",
       "3  Abbotsford     124 Yarra St      3    h  1876000.0      S  Nelson   \n",
       "4  Abbotsford    98 Charles St      2    h  1636000.0      S  Nelson   \n",
       "\n",
       "        Date  Distance  Postcode  ...  Bathroom  Car  Landsize  BuildingArea  \\\n",
       "0  4/02/2016       2.5    3067.0  ...       1.0  0.0     156.0          79.0   \n",
       "1  4/03/2017       2.5    3067.0  ...       2.0  0.0     134.0         150.0   \n",
       "2  4/06/2016       2.5    3067.0  ...       1.0  2.0     120.0         142.0   \n",
       "3  7/05/2016       2.5    3067.0  ...       2.0  0.0     245.0         210.0   \n",
       "4  8/10/2016       2.5    3067.0  ...       1.0  2.0     256.0         107.0   \n",
       "\n",
       "   YearBuilt  CouncilArea Lattitude  Longtitude             Regionname  \\\n",
       "0     1900.0        Yarra  -37.8079    144.9934  Northern Metropolitan   \n",
       "1     1900.0        Yarra  -37.8093    144.9944  Northern Metropolitan   \n",
       "2     2014.0        Yarra  -37.8072    144.9941  Northern Metropolitan   \n",
       "3     1910.0        Yarra  -37.8024    144.9993  Northern Metropolitan   \n",
       "4     1890.0        Yarra  -37.8060    144.9954  Northern Metropolitan   \n",
       "\n",
       "  Propertycount  \n",
       "0        4019.0  \n",
       "1        4019.0  \n",
       "2        4019.0  \n",
       "3        4019.0  \n",
       "4        4019.0  \n",
       "\n",
       "[5 rows x 21 columns]"
      ]
     },
     "execution_count": 2,
     "metadata": {},
     "output_type": "execute_result"
    }
   ],
   "source": [
    "melbourne_file_path = '../input/melbourne-housing-snapshot/melb_data.csv'\n",
    "df = pd.read_csv(melbourne_file_path)\n",
    "\n",
    "#let's get rid of empty rows first\n",
    "df = df.dropna(axis=0)\n",
    "# reseting the index helps to concat dataframes more easily. We'll need that later\n",
    "df = df.reset_index(drop=True)\n",
    "df.head()"
   ]
  },
  {
   "cell_type": "code",
   "execution_count": 3,
   "id": "497e8dca",
   "metadata": {
    "execution": {
     "iopub.execute_input": "2023-01-03T19:53:40.796204Z",
     "iopub.status.busy": "2023-01-03T19:53:40.795793Z",
     "iopub.status.idle": "2023-01-03T19:53:40.804306Z",
     "shell.execute_reply": "2023-01-03T19:53:40.803050Z"
    },
    "papermill": {
     "duration": 0.019329,
     "end_time": "2023-01-03T19:53:40.806554",
     "exception": false,
     "start_time": "2023-01-03T19:53:40.787225",
     "status": "completed"
    },
    "tags": []
   },
   "outputs": [
    {
     "data": {
      "text/plain": [
       "Index(['Suburb', 'Address', 'Rooms', 'Type', 'Price', 'Method', 'SellerG',\n",
       "       'Date', 'Distance', 'Postcode', 'Bedroom2', 'Bathroom', 'Car',\n",
       "       'Landsize', 'BuildingArea', 'YearBuilt', 'CouncilArea', 'Lattitude',\n",
       "       'Longtitude', 'Regionname', 'Propertycount'],\n",
       "      dtype='object')"
      ]
     },
     "execution_count": 3,
     "metadata": {},
     "output_type": "execute_result"
    }
   ],
   "source": [
    "df.columns"
   ]
  },
  {
   "cell_type": "markdown",
   "id": "a5975ef2",
   "metadata": {
    "papermill": {
     "duration": 0.006831,
     "end_time": "2023-01-03T19:53:40.822181",
     "exception": false,
     "start_time": "2023-01-03T19:53:40.815350",
     "status": "completed"
    },
    "tags": []
   },
   "source": [
    "From the list above, Suburb, Address, Type, Method, SellerG, Date, Postcode, CouncilArea, Regionname are categorical features.\n",
    "\n",
    "'Postcode' has numerical values and technically can be used in an ML model without an error but it would give you an inappropriate result. Because, it represents a category. It has no numerical significance. "
   ]
  },
  {
   "cell_type": "markdown",
   "id": "2608130a",
   "metadata": {
    "papermill": {
     "duration": 0.006773,
     "end_time": "2023-01-03T19:53:40.836062",
     "exception": false,
     "start_time": "2023-01-03T19:53:40.829289",
     "status": "completed"
    },
    "tags": []
   },
   "source": [
    "# Working With Just The Numerical Features"
   ]
  },
  {
   "cell_type": "markdown",
   "id": "fef96d7d",
   "metadata": {
    "papermill": {
     "duration": 0.006769,
     "end_time": "2023-01-03T19:53:40.850364",
     "exception": false,
     "start_time": "2023-01-03T19:53:40.843595",
     "status": "completed"
    },
    "tags": []
   },
   "source": [
    "Let's see the result when we use just the basic numerical features that work with Random Forest. And later we will see whether adding those categorical features will actually improve our model or make it worse. "
   ]
  },
  {
   "cell_type": "code",
   "execution_count": 4,
   "id": "2f76f4b4",
   "metadata": {
    "execution": {
     "iopub.execute_input": "2023-01-03T19:53:40.866315Z",
     "iopub.status.busy": "2023-01-03T19:53:40.865908Z",
     "iopub.status.idle": "2023-01-03T19:53:43.171015Z",
     "shell.execute_reply": "2023-01-03T19:53:43.169543Z"
    },
    "papermill": {
     "duration": 2.31664,
     "end_time": "2023-01-03T19:53:43.174043",
     "exception": false,
     "start_time": "2023-01-03T19:53:40.857403",
     "status": "completed"
    },
    "tags": []
   },
   "outputs": [
    {
     "name": "stdout",
     "output_type": "stream",
     "text": [
      "175105.8469491838\n"
     ]
    }
   ],
   "source": [
    "features = ['Rooms','Distance','Bedroom2','Bathroom', 'Car','Landsize',\n",
    "            'BuildingArea','Lattitude','Longtitude','Propertycount']\n",
    "y = df.Price\n",
    "X = df[features]\n",
    "train_X, test_X, train_y, test_y = train_test_split(X,y, random_state =1)\n",
    "forest_model = RandomForestRegressor(random_state=1, n_estimators = 100 )\n",
    "forest_model.fit(train_X, train_y)\n",
    "melb_preds = forest_model.predict(test_X)\n",
    "print(mean_absolute_error(test_y, melb_preds))"
   ]
  },
  {
   "cell_type": "markdown",
   "id": "f499f558",
   "metadata": {
    "papermill": {
     "duration": 0.006932,
     "end_time": "2023-01-03T19:53:43.190024",
     "exception": false,
     "start_time": "2023-01-03T19:53:43.183092",
     "status": "completed"
    },
    "tags": []
   },
   "source": [
    "Now, let's work with the categorical data and add them into our features list. "
   ]
  },
  {
   "cell_type": "markdown",
   "id": "3e8bbfa0",
   "metadata": {
    "papermill": {
     "duration": 0.006819,
     "end_time": "2023-01-03T19:53:43.203978",
     "exception": false,
     "start_time": "2023-01-03T19:53:43.197159",
     "status": "completed"
    },
    "tags": []
   },
   "source": [
    "# One Hot Encoding \n",
    "Here's a quick introduction of One Hot Encoding: https://www.geeksforgeeks.org/ml-one-hot-encoding-of-datasets-in-python/.\n",
    "\n",
    "In short, the categories are converted into columns. For example, in our 'Type' column, there are three categories, so we get three columns. And the rows are filled with 0's and 1's. The final result is a matrix of 0's and 1's where presence of each category is represented with 1. \n",
    "\n",
    "One Hot Encoding is only good for features that have few categories. With too many categories, we will be cursed with the 'Curse of Dimensionality'. In our dataset, it is only good for 'Type' and 'Method'. All the others have too many categories. "
   ]
  },
  {
   "cell_type": "code",
   "execution_count": 5,
   "id": "46089a2c",
   "metadata": {
    "execution": {
     "iopub.execute_input": "2023-01-03T19:53:43.220369Z",
     "iopub.status.busy": "2023-01-03T19:53:43.219351Z",
     "iopub.status.idle": "2023-01-03T19:53:43.265481Z",
     "shell.execute_reply": "2023-01-03T19:53:43.264008Z"
    },
    "papermill": {
     "duration": 0.058365,
     "end_time": "2023-01-03T19:53:43.269358",
     "exception": false,
     "start_time": "2023-01-03T19:53:43.210993",
     "status": "completed"
    },
    "tags": []
   },
   "outputs": [
    {
     "name": "stdout",
     "output_type": "stream",
     "text": [
      "[array(['h', 't', 'u'], dtype=object), array(['PI', 'S', 'SA', 'SP', 'VB'], dtype=object)] \n",
      " [[1. 0. 0. ... 0. 0. 0.]\n",
      " [1. 0. 0. ... 0. 1. 0.]\n",
      " [1. 0. 0. ... 0. 0. 1.]\n",
      " ...\n",
      " [0. 0. 1. ... 0. 1. 0.]\n",
      " [0. 0. 1. ... 0. 0. 0.]\n",
      " [1. 0. 0. ... 0. 0. 1.]]\n"
     ]
    },
    {
     "data": {
      "text/html": [
       "<div>\n",
       "<style scoped>\n",
       "    .dataframe tbody tr th:only-of-type {\n",
       "        vertical-align: middle;\n",
       "    }\n",
       "\n",
       "    .dataframe tbody tr th {\n",
       "        vertical-align: top;\n",
       "    }\n",
       "\n",
       "    .dataframe thead th {\n",
       "        text-align: right;\n",
       "    }\n",
       "</style>\n",
       "<table border=\"1\" class=\"dataframe\">\n",
       "  <thead>\n",
       "    <tr style=\"text-align: right;\">\n",
       "      <th></th>\n",
       "      <th>Suburb</th>\n",
       "      <th>Address</th>\n",
       "      <th>Rooms</th>\n",
       "      <th>Type</th>\n",
       "      <th>Price</th>\n",
       "      <th>Method</th>\n",
       "      <th>SellerG</th>\n",
       "      <th>Date</th>\n",
       "      <th>Distance</th>\n",
       "      <th>Postcode</th>\n",
       "      <th>...</th>\n",
       "      <th>Regionname</th>\n",
       "      <th>Propertycount</th>\n",
       "      <th>h</th>\n",
       "      <th>t</th>\n",
       "      <th>u</th>\n",
       "      <th>PI</th>\n",
       "      <th>S</th>\n",
       "      <th>SA</th>\n",
       "      <th>SP</th>\n",
       "      <th>VB</th>\n",
       "    </tr>\n",
       "  </thead>\n",
       "  <tbody>\n",
       "    <tr>\n",
       "      <th>0</th>\n",
       "      <td>Abbotsford</td>\n",
       "      <td>25 Bloomburg St</td>\n",
       "      <td>2</td>\n",
       "      <td>h</td>\n",
       "      <td>1035000.0</td>\n",
       "      <td>S</td>\n",
       "      <td>Biggin</td>\n",
       "      <td>4/02/2016</td>\n",
       "      <td>2.5</td>\n",
       "      <td>3067.0</td>\n",
       "      <td>...</td>\n",
       "      <td>Northern Metropolitan</td>\n",
       "      <td>4019.0</td>\n",
       "      <td>1.0</td>\n",
       "      <td>0.0</td>\n",
       "      <td>0.0</td>\n",
       "      <td>0.0</td>\n",
       "      <td>1.0</td>\n",
       "      <td>0.0</td>\n",
       "      <td>0.0</td>\n",
       "      <td>0.0</td>\n",
       "    </tr>\n",
       "    <tr>\n",
       "      <th>1</th>\n",
       "      <td>Abbotsford</td>\n",
       "      <td>5 Charles St</td>\n",
       "      <td>3</td>\n",
       "      <td>h</td>\n",
       "      <td>1465000.0</td>\n",
       "      <td>SP</td>\n",
       "      <td>Biggin</td>\n",
       "      <td>4/03/2017</td>\n",
       "      <td>2.5</td>\n",
       "      <td>3067.0</td>\n",
       "      <td>...</td>\n",
       "      <td>Northern Metropolitan</td>\n",
       "      <td>4019.0</td>\n",
       "      <td>1.0</td>\n",
       "      <td>0.0</td>\n",
       "      <td>0.0</td>\n",
       "      <td>0.0</td>\n",
       "      <td>0.0</td>\n",
       "      <td>0.0</td>\n",
       "      <td>1.0</td>\n",
       "      <td>0.0</td>\n",
       "    </tr>\n",
       "    <tr>\n",
       "      <th>2</th>\n",
       "      <td>Abbotsford</td>\n",
       "      <td>55a Park St</td>\n",
       "      <td>4</td>\n",
       "      <td>h</td>\n",
       "      <td>1600000.0</td>\n",
       "      <td>VB</td>\n",
       "      <td>Nelson</td>\n",
       "      <td>4/06/2016</td>\n",
       "      <td>2.5</td>\n",
       "      <td>3067.0</td>\n",
       "      <td>...</td>\n",
       "      <td>Northern Metropolitan</td>\n",
       "      <td>4019.0</td>\n",
       "      <td>1.0</td>\n",
       "      <td>0.0</td>\n",
       "      <td>0.0</td>\n",
       "      <td>0.0</td>\n",
       "      <td>0.0</td>\n",
       "      <td>0.0</td>\n",
       "      <td>0.0</td>\n",
       "      <td>1.0</td>\n",
       "    </tr>\n",
       "    <tr>\n",
       "      <th>3</th>\n",
       "      <td>Abbotsford</td>\n",
       "      <td>124 Yarra St</td>\n",
       "      <td>3</td>\n",
       "      <td>h</td>\n",
       "      <td>1876000.0</td>\n",
       "      <td>S</td>\n",
       "      <td>Nelson</td>\n",
       "      <td>7/05/2016</td>\n",
       "      <td>2.5</td>\n",
       "      <td>3067.0</td>\n",
       "      <td>...</td>\n",
       "      <td>Northern Metropolitan</td>\n",
       "      <td>4019.0</td>\n",
       "      <td>1.0</td>\n",
       "      <td>0.0</td>\n",
       "      <td>0.0</td>\n",
       "      <td>0.0</td>\n",
       "      <td>1.0</td>\n",
       "      <td>0.0</td>\n",
       "      <td>0.0</td>\n",
       "      <td>0.0</td>\n",
       "    </tr>\n",
       "    <tr>\n",
       "      <th>4</th>\n",
       "      <td>Abbotsford</td>\n",
       "      <td>98 Charles St</td>\n",
       "      <td>2</td>\n",
       "      <td>h</td>\n",
       "      <td>1636000.0</td>\n",
       "      <td>S</td>\n",
       "      <td>Nelson</td>\n",
       "      <td>8/10/2016</td>\n",
       "      <td>2.5</td>\n",
       "      <td>3067.0</td>\n",
       "      <td>...</td>\n",
       "      <td>Northern Metropolitan</td>\n",
       "      <td>4019.0</td>\n",
       "      <td>1.0</td>\n",
       "      <td>0.0</td>\n",
       "      <td>0.0</td>\n",
       "      <td>0.0</td>\n",
       "      <td>1.0</td>\n",
       "      <td>0.0</td>\n",
       "      <td>0.0</td>\n",
       "      <td>0.0</td>\n",
       "    </tr>\n",
       "  </tbody>\n",
       "</table>\n",
       "<p>5 rows × 29 columns</p>\n",
       "</div>"
      ],
      "text/plain": [
       "       Suburb          Address  Rooms Type      Price Method SellerG  \\\n",
       "0  Abbotsford  25 Bloomburg St      2    h  1035000.0      S  Biggin   \n",
       "1  Abbotsford     5 Charles St      3    h  1465000.0     SP  Biggin   \n",
       "2  Abbotsford      55a Park St      4    h  1600000.0     VB  Nelson   \n",
       "3  Abbotsford     124 Yarra St      3    h  1876000.0      S  Nelson   \n",
       "4  Abbotsford    98 Charles St      2    h  1636000.0      S  Nelson   \n",
       "\n",
       "        Date  Distance  Postcode  ...             Regionname  Propertycount  \\\n",
       "0  4/02/2016       2.5    3067.0  ...  Northern Metropolitan         4019.0   \n",
       "1  4/03/2017       2.5    3067.0  ...  Northern Metropolitan         4019.0   \n",
       "2  4/06/2016       2.5    3067.0  ...  Northern Metropolitan         4019.0   \n",
       "3  7/05/2016       2.5    3067.0  ...  Northern Metropolitan         4019.0   \n",
       "4  8/10/2016       2.5    3067.0  ...  Northern Metropolitan         4019.0   \n",
       "\n",
       "     h    t    u   PI    S   SA   SP   VB  \n",
       "0  1.0  0.0  0.0  0.0  1.0  0.0  0.0  0.0  \n",
       "1  1.0  0.0  0.0  0.0  0.0  0.0  1.0  0.0  \n",
       "2  1.0  0.0  0.0  0.0  0.0  0.0  0.0  1.0  \n",
       "3  1.0  0.0  0.0  0.0  1.0  0.0  0.0  0.0  \n",
       "4  1.0  0.0  0.0  0.0  1.0  0.0  0.0  0.0  \n",
       "\n",
       "[5 rows x 29 columns]"
      ]
     },
     "execution_count": 5,
     "metadata": {},
     "output_type": "execute_result"
    }
   ],
   "source": [
    "# create the encoder\n",
    "ohe = OneHotEncoder(handle_unknown = 'ignore')\n",
    "\n",
    "# fit the encoder with the categorical data \n",
    "encoded_columns = ohe.fit_transform(df[['Type','Method']])\n",
    "\n",
    "# after fitting the data to the encoder, we can view the categories inside Type and Method, and the result data\n",
    "# the resulting data will make more sense after you change it into an actual dataframe which we'll do later\n",
    "print(ohe.categories_,'\\n',encoded_columns.toarray())\n",
    "\n",
    "# we will use the categories names as column names to add to the dataframe\n",
    "column_names = np.concatenate([ohe.categories_[0],ohe.categories_[1]],axis = 0)\n",
    "\n",
    "# Now let's create the dataframe \n",
    "encoded_df = pd.DataFrame(encoded_columns.toarray(),columns = column_names)\n",
    "encoded_df\n",
    "\n",
    "# we will concatenate this dataframe to our original dataframe\n",
    "df = pd.concat([df,encoded_df],axis =1)\n",
    "df.head()"
   ]
  },
  {
   "cell_type": "markdown",
   "id": "f804dfff",
   "metadata": {
    "papermill": {
     "duration": 0.007505,
     "end_time": "2023-01-03T19:53:43.284547",
     "exception": false,
     "start_time": "2023-01-03T19:53:43.277042",
     "status": "completed"
    },
    "tags": []
   },
   "source": [
    "We have successfully converted two categorical features to numerical features. But this process has also added 6 more columns. This is the Curse of Dimensionality. More categories would result in more columns. That is why One Hot Encoding is not suitable for features with large number of categories. It will enlarge the dataset by a lot. That is where Target Encoding comes in. "
   ]
  },
  {
   "cell_type": "markdown",
   "id": "d2da58ee",
   "metadata": {
    "papermill": {
     "duration": 0.007266,
     "end_time": "2023-01-03T19:53:43.299499",
     "exception": false,
     "start_time": "2023-01-03T19:53:43.292233",
     "status": "completed"
    },
    "tags": []
   },
   "source": [
    "# Target Encoding"
   ]
  },
  {
   "cell_type": "markdown",
   "id": "ad9b4d48",
   "metadata": {
    "papermill": {
     "duration": 0.007883,
     "end_time": "2023-01-03T19:53:43.315145",
     "exception": false,
     "start_time": "2023-01-03T19:53:43.307262",
     "status": "completed"
    },
    "tags": []
   },
   "source": [
    "With target encoding, we replace the categories with their respective mean values of target data. For example let's just take the feature 'Suburb' right now and check mean values for all the categories inside. "
   ]
  },
  {
   "cell_type": "code",
   "execution_count": 6,
   "id": "1a57940c",
   "metadata": {
    "execution": {
     "iopub.execute_input": "2023-01-03T19:53:43.332402Z",
     "iopub.status.busy": "2023-01-03T19:53:43.331556Z",
     "iopub.status.idle": "2023-01-03T19:53:43.344759Z",
     "shell.execute_reply": "2023-01-03T19:53:43.343933Z"
    },
    "papermill": {
     "duration": 0.023984,
     "end_time": "2023-01-03T19:53:43.346772",
     "exception": false,
     "start_time": "2023-01-03T19:53:43.322788",
     "status": "completed"
    },
    "tags": []
   },
   "outputs": [
    {
     "data": {
      "text/plain": [
       "Suburb\n",
       "Abbotsford      1.125972e+06\n",
       "Aberfeldie      1.365000e+06\n",
       "Airport West    7.042941e+05\n",
       "Albanvale       5.550000e+05\n",
       "Albert Park     1.868783e+06\n",
       "                    ...     \n",
       "Wollert         5.625000e+05\n",
       "Wyndham Vale    4.860000e+05\n",
       "Yallambie       8.646786e+05\n",
       "Yarra Glen      6.200000e+05\n",
       "Yarraville      1.018802e+06\n",
       "Name: Price, Length: 287, dtype: float64"
      ]
     },
     "execution_count": 6,
     "metadata": {},
     "output_type": "execute_result"
    }
   ],
   "source": [
    "suburb_means = df.groupby('Suburb')['Price'].mean()\n",
    "suburb_means"
   ]
  },
  {
   "cell_type": "markdown",
   "id": "15062ee2",
   "metadata": {
    "papermill": {
     "duration": 0.007356,
     "end_time": "2023-01-03T19:53:43.361921",
     "exception": false,
     "start_time": "2023-01-03T19:53:43.354565",
     "status": "completed"
    },
    "tags": []
   },
   "source": [
    "These mean values will replace the actual categories in 'Suburb' feature. For instance, Abbotsford will be replaced by 1.125972e+06. Now, let's see the actual implementation. "
   ]
  },
  {
   "cell_type": "code",
   "execution_count": 7,
   "id": "ec1f9098",
   "metadata": {
    "execution": {
     "iopub.execute_input": "2023-01-03T19:53:43.380370Z",
     "iopub.status.busy": "2023-01-03T19:53:43.379521Z",
     "iopub.status.idle": "2023-01-03T19:53:43.428140Z",
     "shell.execute_reply": "2023-01-03T19:53:43.426813Z"
    },
    "papermill": {
     "duration": 0.060721,
     "end_time": "2023-01-03T19:53:43.430578",
     "exception": false,
     "start_time": "2023-01-03T19:53:43.369857",
     "status": "completed"
    },
    "tags": []
   },
   "outputs": [
    {
     "data": {
      "text/html": [
       "<div>\n",
       "<style scoped>\n",
       "    .dataframe tbody tr th:only-of-type {\n",
       "        vertical-align: middle;\n",
       "    }\n",
       "\n",
       "    .dataframe tbody tr th {\n",
       "        vertical-align: top;\n",
       "    }\n",
       "\n",
       "    .dataframe thead th {\n",
       "        text-align: right;\n",
       "    }\n",
       "</style>\n",
       "<table border=\"1\" class=\"dataframe\">\n",
       "  <thead>\n",
       "    <tr style=\"text-align: right;\">\n",
       "      <th></th>\n",
       "      <th>Suburb</th>\n",
       "      <th>Address</th>\n",
       "      <th>Rooms</th>\n",
       "      <th>Type</th>\n",
       "      <th>Price</th>\n",
       "      <th>Method</th>\n",
       "      <th>SellerG</th>\n",
       "      <th>Date</th>\n",
       "      <th>Distance</th>\n",
       "      <th>Postcode</th>\n",
       "      <th>...</th>\n",
       "      <th>Regionname</th>\n",
       "      <th>Propertycount</th>\n",
       "      <th>h</th>\n",
       "      <th>t</th>\n",
       "      <th>u</th>\n",
       "      <th>PI</th>\n",
       "      <th>S</th>\n",
       "      <th>SA</th>\n",
       "      <th>SP</th>\n",
       "      <th>VB</th>\n",
       "    </tr>\n",
       "  </thead>\n",
       "  <tbody>\n",
       "    <tr>\n",
       "      <th>0</th>\n",
       "      <td>1.125972e+06</td>\n",
       "      <td>25 Bloomburg St</td>\n",
       "      <td>2</td>\n",
       "      <td>h</td>\n",
       "      <td>1035000.0</td>\n",
       "      <td>S</td>\n",
       "      <td>1.027889e+06</td>\n",
       "      <td>4/02/2016</td>\n",
       "      <td>2.5</td>\n",
       "      <td>1.125972e+06</td>\n",
       "      <td>...</td>\n",
       "      <td>872263.457929</td>\n",
       "      <td>4019.0</td>\n",
       "      <td>1.0</td>\n",
       "      <td>0.0</td>\n",
       "      <td>0.0</td>\n",
       "      <td>0.0</td>\n",
       "      <td>1.0</td>\n",
       "      <td>0.0</td>\n",
       "      <td>0.0</td>\n",
       "      <td>0.0</td>\n",
       "    </tr>\n",
       "    <tr>\n",
       "      <th>1</th>\n",
       "      <td>1.125972e+06</td>\n",
       "      <td>5 Charles St</td>\n",
       "      <td>3</td>\n",
       "      <td>h</td>\n",
       "      <td>1465000.0</td>\n",
       "      <td>SP</td>\n",
       "      <td>1.027889e+06</td>\n",
       "      <td>4/03/2017</td>\n",
       "      <td>2.5</td>\n",
       "      <td>1.125972e+06</td>\n",
       "      <td>...</td>\n",
       "      <td>872263.457929</td>\n",
       "      <td>4019.0</td>\n",
       "      <td>1.0</td>\n",
       "      <td>0.0</td>\n",
       "      <td>0.0</td>\n",
       "      <td>0.0</td>\n",
       "      <td>0.0</td>\n",
       "      <td>0.0</td>\n",
       "      <td>1.0</td>\n",
       "      <td>0.0</td>\n",
       "    </tr>\n",
       "    <tr>\n",
       "      <th>2</th>\n",
       "      <td>1.125972e+06</td>\n",
       "      <td>55a Park St</td>\n",
       "      <td>4</td>\n",
       "      <td>h</td>\n",
       "      <td>1600000.0</td>\n",
       "      <td>VB</td>\n",
       "      <td>1.011728e+06</td>\n",
       "      <td>4/06/2016</td>\n",
       "      <td>2.5</td>\n",
       "      <td>1.125972e+06</td>\n",
       "      <td>...</td>\n",
       "      <td>872263.457929</td>\n",
       "      <td>4019.0</td>\n",
       "      <td>1.0</td>\n",
       "      <td>0.0</td>\n",
       "      <td>0.0</td>\n",
       "      <td>0.0</td>\n",
       "      <td>0.0</td>\n",
       "      <td>0.0</td>\n",
       "      <td>0.0</td>\n",
       "      <td>1.0</td>\n",
       "    </tr>\n",
       "    <tr>\n",
       "      <th>3</th>\n",
       "      <td>1.125972e+06</td>\n",
       "      <td>124 Yarra St</td>\n",
       "      <td>3</td>\n",
       "      <td>h</td>\n",
       "      <td>1876000.0</td>\n",
       "      <td>S</td>\n",
       "      <td>1.011728e+06</td>\n",
       "      <td>7/05/2016</td>\n",
       "      <td>2.5</td>\n",
       "      <td>1.125972e+06</td>\n",
       "      <td>...</td>\n",
       "      <td>872263.457929</td>\n",
       "      <td>4019.0</td>\n",
       "      <td>1.0</td>\n",
       "      <td>0.0</td>\n",
       "      <td>0.0</td>\n",
       "      <td>0.0</td>\n",
       "      <td>1.0</td>\n",
       "      <td>0.0</td>\n",
       "      <td>0.0</td>\n",
       "      <td>0.0</td>\n",
       "    </tr>\n",
       "    <tr>\n",
       "      <th>4</th>\n",
       "      <td>1.125972e+06</td>\n",
       "      <td>98 Charles St</td>\n",
       "      <td>2</td>\n",
       "      <td>h</td>\n",
       "      <td>1636000.0</td>\n",
       "      <td>S</td>\n",
       "      <td>1.011728e+06</td>\n",
       "      <td>8/10/2016</td>\n",
       "      <td>2.5</td>\n",
       "      <td>1.125972e+06</td>\n",
       "      <td>...</td>\n",
       "      <td>872263.457929</td>\n",
       "      <td>4019.0</td>\n",
       "      <td>1.0</td>\n",
       "      <td>0.0</td>\n",
       "      <td>0.0</td>\n",
       "      <td>0.0</td>\n",
       "      <td>1.0</td>\n",
       "      <td>0.0</td>\n",
       "      <td>0.0</td>\n",
       "      <td>0.0</td>\n",
       "    </tr>\n",
       "  </tbody>\n",
       "</table>\n",
       "<p>5 rows × 29 columns</p>\n",
       "</div>"
      ],
      "text/plain": [
       "         Suburb          Address  Rooms Type      Price Method       SellerG  \\\n",
       "0  1.125972e+06  25 Bloomburg St      2    h  1035000.0      S  1.027889e+06   \n",
       "1  1.125972e+06     5 Charles St      3    h  1465000.0     SP  1.027889e+06   \n",
       "2  1.125972e+06      55a Park St      4    h  1600000.0     VB  1.011728e+06   \n",
       "3  1.125972e+06     124 Yarra St      3    h  1876000.0      S  1.011728e+06   \n",
       "4  1.125972e+06    98 Charles St      2    h  1636000.0      S  1.011728e+06   \n",
       "\n",
       "        Date  Distance      Postcode  ...     Regionname  Propertycount    h  \\\n",
       "0  4/02/2016       2.5  1.125972e+06  ...  872263.457929         4019.0  1.0   \n",
       "1  4/03/2017       2.5  1.125972e+06  ...  872263.457929         4019.0  1.0   \n",
       "2  4/06/2016       2.5  1.125972e+06  ...  872263.457929         4019.0  1.0   \n",
       "3  7/05/2016       2.5  1.125972e+06  ...  872263.457929         4019.0  1.0   \n",
       "4  8/10/2016       2.5  1.125972e+06  ...  872263.457929         4019.0  1.0   \n",
       "\n",
       "     t    u   PI    S   SA   SP   VB  \n",
       "0  0.0  0.0  0.0  1.0  0.0  0.0  0.0  \n",
       "1  0.0  0.0  0.0  0.0  0.0  1.0  0.0  \n",
       "2  0.0  0.0  0.0  0.0  0.0  0.0  1.0  \n",
       "3  0.0  0.0  0.0  1.0  0.0  0.0  0.0  \n",
       "4  0.0  0.0  0.0  1.0  0.0  0.0  0.0  \n",
       "\n",
       "[5 rows x 29 columns]"
      ]
     },
     "execution_count": 7,
     "metadata": {},
     "output_type": "execute_result"
    }
   ],
   "source": [
    "suburb_means = df.groupby('Suburb')['Price'].mean()\n",
    "postcode_means = df.groupby('Postcode')['Price'].mean()\n",
    "sellerg_means = df.groupby('SellerG')['Price'].mean()\n",
    "council_area_means = df.groupby('CouncilArea')['Price'].mean()\n",
    "region_name_means = df.groupby('Regionname')['Price'].mean()\n",
    "df['Suburb'] = df['Suburb'].map(suburb_means)\n",
    "df['Postcode'] = df['Postcode'].map(postcode_means)\n",
    "df['SellerG'] = df['SellerG'].map(sellerg_means)\n",
    "df['CouncilArea'] = df['CouncilArea'].map(council_area_means)\n",
    "df['Regionname'] = df['Regionname'].map(region_name_means)\n",
    "df.head()"
   ]
  },
  {
   "cell_type": "markdown",
   "id": "4b46ddd4",
   "metadata": {
    "execution": {
     "iopub.execute_input": "2022-12-17T19:00:37.601727Z",
     "iopub.status.busy": "2022-12-17T19:00:37.601075Z",
     "iopub.status.idle": "2022-12-17T19:00:37.660199Z",
     "shell.execute_reply": "2022-12-17T19:00:37.658150Z",
     "shell.execute_reply.started": "2022-12-17T19:00:37.601678Z"
    },
    "papermill": {
     "duration": 0.007957,
     "end_time": "2023-01-03T19:53:43.446907",
     "exception": false,
     "start_time": "2023-01-03T19:53:43.438950",
     "status": "completed"
    },
    "tags": []
   },
   "source": [
    "We are almost done. Now we have two categorical features that we haven't touched, 'Address' and 'Date'. We will ignore the 'Address' column because it just has way too many categories to address (pun intended). From 'Date' column, we will extract the year and get how many years ago it was sold."
   ]
  },
  {
   "cell_type": "markdown",
   "id": "859de4c8",
   "metadata": {
    "papermill": {
     "duration": 0.007792,
     "end_time": "2023-01-03T19:53:43.462878",
     "exception": false,
     "start_time": "2023-01-03T19:53:43.455086",
     "status": "completed"
    },
    "tags": []
   },
   "source": [
    "# Working with Dates"
   ]
  },
  {
   "cell_type": "markdown",
   "id": "9ffbc1b6",
   "metadata": {
    "papermill": {
     "duration": 0.007939,
     "end_time": "2023-01-03T19:53:43.478933",
     "exception": false,
     "start_time": "2023-01-03T19:53:43.470994",
     "status": "completed"
    },
    "tags": []
   },
   "source": [
    "Apart from the obvious 'Date' column, there's also the column 'YearBuilt'. We could leave YearBuilt because it does have numerical significance and works fine. But it would be more appropriate to extract how old the house exactly is and use that instead. So, we're doing that as well. "
   ]
  },
  {
   "cell_type": "code",
   "execution_count": 8,
   "id": "cec419d6",
   "metadata": {
    "execution": {
     "iopub.execute_input": "2023-01-03T19:53:43.497246Z",
     "iopub.status.busy": "2023-01-03T19:53:43.496853Z",
     "iopub.status.idle": "2023-01-03T19:53:43.524414Z",
     "shell.execute_reply": "2023-01-03T19:53:43.523055Z"
    },
    "papermill": {
     "duration": 0.039723,
     "end_time": "2023-01-03T19:53:43.526940",
     "exception": false,
     "start_time": "2023-01-03T19:53:43.487217",
     "status": "completed"
    },
    "tags": []
   },
   "outputs": [],
   "source": [
    "from datetime import date\n",
    "\n",
    "current_year = date.today().year\n",
    "\n",
    "# converting the Date column from String Object to datetime datatype\n",
    "df['Date'] = pd.to_datetime(df['Date'],dayfirst = True)\n",
    "\n",
    "# how many years ago was it sold ? \n",
    "sold_years_ago = [current_year - date.year for date in df['Date']]\n",
    "\n",
    "# replacing the Date column with sold_years_ago data\n",
    "df['sold_years_ago'] = sold_years_ago\n",
    "\n",
    "\n",
    "# getting how old the house is from YearBuilt column\n",
    "years_old = [current_year - year for year in df.YearBuilt]\n",
    "df['years_old'] = years_old"
   ]
  },
  {
   "cell_type": "markdown",
   "id": "2406ad5e",
   "metadata": {
    "papermill": {
     "duration": 0.007949,
     "end_time": "2023-01-03T19:53:43.543204",
     "exception": false,
     "start_time": "2023-01-03T19:53:43.535255",
     "status": "completed"
    },
    "tags": []
   },
   "source": [
    "# Final Dataset"
   ]
  },
  {
   "cell_type": "markdown",
   "id": "ebe5f3b4",
   "metadata": {
    "papermill": {
     "duration": 0.008291,
     "end_time": "2023-01-03T19:53:43.559828",
     "exception": false,
     "start_time": "2023-01-03T19:53:43.551537",
     "status": "completed"
    },
    "tags": []
   },
   "source": [
    "We are done working with all the data. Now, let's check out the final dataset."
   ]
  },
  {
   "cell_type": "code",
   "execution_count": 9,
   "id": "e99f0d37",
   "metadata": {
    "execution": {
     "iopub.execute_input": "2023-01-03T19:53:43.578375Z",
     "iopub.status.busy": "2023-01-03T19:53:43.577895Z",
     "iopub.status.idle": "2023-01-03T19:53:43.597193Z",
     "shell.execute_reply": "2023-01-03T19:53:43.595952Z"
    },
    "papermill": {
     "duration": 0.032168,
     "end_time": "2023-01-03T19:53:43.600344",
     "exception": false,
     "start_time": "2023-01-03T19:53:43.568176",
     "status": "completed"
    },
    "tags": []
   },
   "outputs": [
    {
     "name": "stdout",
     "output_type": "stream",
     "text": [
      "         Suburb          Address  Rooms Type      Price Method       SellerG  \\\n",
      "0  1.125972e+06  25 Bloomburg St      2    h  1035000.0      S  1.027889e+06   \n",
      "1  1.125972e+06     5 Charles St      3    h  1465000.0     SP  1.027889e+06   \n",
      "2  1.125972e+06      55a Park St      4    h  1600000.0     VB  1.011728e+06   \n",
      "3  1.125972e+06     124 Yarra St      3    h  1876000.0      S  1.011728e+06   \n",
      "4  1.125972e+06    98 Charles St      2    h  1636000.0      S  1.011728e+06   \n",
      "\n",
      "        Date  Distance      Postcode  ...    h    t    u   PI    S   SA   SP  \\\n",
      "0 2016-02-04       2.5  1.125972e+06  ...  1.0  0.0  0.0  0.0  1.0  0.0  0.0   \n",
      "1 2017-03-04       2.5  1.125972e+06  ...  1.0  0.0  0.0  0.0  0.0  0.0  1.0   \n",
      "2 2016-06-04       2.5  1.125972e+06  ...  1.0  0.0  0.0  0.0  0.0  0.0  0.0   \n",
      "3 2016-05-07       2.5  1.125972e+06  ...  1.0  0.0  0.0  0.0  1.0  0.0  0.0   \n",
      "4 2016-10-08       2.5  1.125972e+06  ...  1.0  0.0  0.0  0.0  1.0  0.0  0.0   \n",
      "\n",
      "    VB  sold_years_ago  years_old  \n",
      "0  0.0               7      123.0  \n",
      "1  0.0               6      123.0  \n",
      "2  1.0               7        9.0  \n",
      "3  0.0               7      113.0  \n",
      "4  0.0               7      133.0  \n",
      "\n",
      "[5 rows x 31 columns] \n",
      " Index(['Suburb', 'Address', 'Rooms', 'Type', 'Price', 'Method', 'SellerG',\n",
      "       'Date', 'Distance', 'Postcode', 'Bedroom2', 'Bathroom', 'Car',\n",
      "       'Landsize', 'BuildingArea', 'YearBuilt', 'CouncilArea', 'Lattitude',\n",
      "       'Longtitude', 'Regionname', 'Propertycount', 'h', 't', 'u', 'PI', 'S',\n",
      "       'SA', 'SP', 'VB', 'sold_years_ago', 'years_old'],\n",
      "      dtype='object') \n",
      "\n"
     ]
    }
   ],
   "source": [
    "print(df.head(),'\\n', df.columns, '\\n')"
   ]
  },
  {
   "cell_type": "markdown",
   "id": "85fbddd9",
   "metadata": {
    "papermill": {
     "duration": 0.008559,
     "end_time": "2023-01-03T19:53:43.617508",
     "exception": false,
     "start_time": "2023-01-03T19:53:43.608949",
     "status": "completed"
    },
    "tags": []
   },
   "source": [
    "Looking at the columns, we don't need some of them anymore. We can drop Address, Type, Method, Date and YearBuilt. "
   ]
  },
  {
   "cell_type": "code",
   "execution_count": 10,
   "id": "7af47d7a",
   "metadata": {
    "execution": {
     "iopub.execute_input": "2023-01-03T19:53:43.635943Z",
     "iopub.status.busy": "2023-01-03T19:53:43.635517Z",
     "iopub.status.idle": "2023-01-03T19:53:43.672688Z",
     "shell.execute_reply": "2023-01-03T19:53:43.671549Z"
    },
    "papermill": {
     "duration": 0.049344,
     "end_time": "2023-01-03T19:53:43.675242",
     "exception": false,
     "start_time": "2023-01-03T19:53:43.625898",
     "status": "completed"
    },
    "tags": []
   },
   "outputs": [
    {
     "data": {
      "text/html": [
       "<div>\n",
       "<style scoped>\n",
       "    .dataframe tbody tr th:only-of-type {\n",
       "        vertical-align: middle;\n",
       "    }\n",
       "\n",
       "    .dataframe tbody tr th {\n",
       "        vertical-align: top;\n",
       "    }\n",
       "\n",
       "    .dataframe thead th {\n",
       "        text-align: right;\n",
       "    }\n",
       "</style>\n",
       "<table border=\"1\" class=\"dataframe\">\n",
       "  <thead>\n",
       "    <tr style=\"text-align: right;\">\n",
       "      <th></th>\n",
       "      <th>Suburb</th>\n",
       "      <th>Rooms</th>\n",
       "      <th>Price</th>\n",
       "      <th>SellerG</th>\n",
       "      <th>Distance</th>\n",
       "      <th>Postcode</th>\n",
       "      <th>Bedroom2</th>\n",
       "      <th>Bathroom</th>\n",
       "      <th>Car</th>\n",
       "      <th>Landsize</th>\n",
       "      <th>...</th>\n",
       "      <th>h</th>\n",
       "      <th>t</th>\n",
       "      <th>u</th>\n",
       "      <th>PI</th>\n",
       "      <th>S</th>\n",
       "      <th>SA</th>\n",
       "      <th>SP</th>\n",
       "      <th>VB</th>\n",
       "      <th>sold_years_ago</th>\n",
       "      <th>years_old</th>\n",
       "    </tr>\n",
       "  </thead>\n",
       "  <tbody>\n",
       "    <tr>\n",
       "      <th>0</th>\n",
       "      <td>1.125972e+06</td>\n",
       "      <td>2</td>\n",
       "      <td>1035000.0</td>\n",
       "      <td>1.027889e+06</td>\n",
       "      <td>2.5</td>\n",
       "      <td>1.125972e+06</td>\n",
       "      <td>2.0</td>\n",
       "      <td>1.0</td>\n",
       "      <td>0.0</td>\n",
       "      <td>156.0</td>\n",
       "      <td>...</td>\n",
       "      <td>1.0</td>\n",
       "      <td>0.0</td>\n",
       "      <td>0.0</td>\n",
       "      <td>0.0</td>\n",
       "      <td>1.0</td>\n",
       "      <td>0.0</td>\n",
       "      <td>0.0</td>\n",
       "      <td>0.0</td>\n",
       "      <td>7</td>\n",
       "      <td>123.0</td>\n",
       "    </tr>\n",
       "    <tr>\n",
       "      <th>1</th>\n",
       "      <td>1.125972e+06</td>\n",
       "      <td>3</td>\n",
       "      <td>1465000.0</td>\n",
       "      <td>1.027889e+06</td>\n",
       "      <td>2.5</td>\n",
       "      <td>1.125972e+06</td>\n",
       "      <td>3.0</td>\n",
       "      <td>2.0</td>\n",
       "      <td>0.0</td>\n",
       "      <td>134.0</td>\n",
       "      <td>...</td>\n",
       "      <td>1.0</td>\n",
       "      <td>0.0</td>\n",
       "      <td>0.0</td>\n",
       "      <td>0.0</td>\n",
       "      <td>0.0</td>\n",
       "      <td>0.0</td>\n",
       "      <td>1.0</td>\n",
       "      <td>0.0</td>\n",
       "      <td>6</td>\n",
       "      <td>123.0</td>\n",
       "    </tr>\n",
       "    <tr>\n",
       "      <th>2</th>\n",
       "      <td>1.125972e+06</td>\n",
       "      <td>4</td>\n",
       "      <td>1600000.0</td>\n",
       "      <td>1.011728e+06</td>\n",
       "      <td>2.5</td>\n",
       "      <td>1.125972e+06</td>\n",
       "      <td>3.0</td>\n",
       "      <td>1.0</td>\n",
       "      <td>2.0</td>\n",
       "      <td>120.0</td>\n",
       "      <td>...</td>\n",
       "      <td>1.0</td>\n",
       "      <td>0.0</td>\n",
       "      <td>0.0</td>\n",
       "      <td>0.0</td>\n",
       "      <td>0.0</td>\n",
       "      <td>0.0</td>\n",
       "      <td>0.0</td>\n",
       "      <td>1.0</td>\n",
       "      <td>7</td>\n",
       "      <td>9.0</td>\n",
       "    </tr>\n",
       "    <tr>\n",
       "      <th>3</th>\n",
       "      <td>1.125972e+06</td>\n",
       "      <td>3</td>\n",
       "      <td>1876000.0</td>\n",
       "      <td>1.011728e+06</td>\n",
       "      <td>2.5</td>\n",
       "      <td>1.125972e+06</td>\n",
       "      <td>4.0</td>\n",
       "      <td>2.0</td>\n",
       "      <td>0.0</td>\n",
       "      <td>245.0</td>\n",
       "      <td>...</td>\n",
       "      <td>1.0</td>\n",
       "      <td>0.0</td>\n",
       "      <td>0.0</td>\n",
       "      <td>0.0</td>\n",
       "      <td>1.0</td>\n",
       "      <td>0.0</td>\n",
       "      <td>0.0</td>\n",
       "      <td>0.0</td>\n",
       "      <td>7</td>\n",
       "      <td>113.0</td>\n",
       "    </tr>\n",
       "    <tr>\n",
       "      <th>4</th>\n",
       "      <td>1.125972e+06</td>\n",
       "      <td>2</td>\n",
       "      <td>1636000.0</td>\n",
       "      <td>1.011728e+06</td>\n",
       "      <td>2.5</td>\n",
       "      <td>1.125972e+06</td>\n",
       "      <td>2.0</td>\n",
       "      <td>1.0</td>\n",
       "      <td>2.0</td>\n",
       "      <td>256.0</td>\n",
       "      <td>...</td>\n",
       "      <td>1.0</td>\n",
       "      <td>0.0</td>\n",
       "      <td>0.0</td>\n",
       "      <td>0.0</td>\n",
       "      <td>1.0</td>\n",
       "      <td>0.0</td>\n",
       "      <td>0.0</td>\n",
       "      <td>0.0</td>\n",
       "      <td>7</td>\n",
       "      <td>133.0</td>\n",
       "    </tr>\n",
       "  </tbody>\n",
       "</table>\n",
       "<p>5 rows × 26 columns</p>\n",
       "</div>"
      ],
      "text/plain": [
       "         Suburb  Rooms      Price       SellerG  Distance      Postcode  \\\n",
       "0  1.125972e+06      2  1035000.0  1.027889e+06       2.5  1.125972e+06   \n",
       "1  1.125972e+06      3  1465000.0  1.027889e+06       2.5  1.125972e+06   \n",
       "2  1.125972e+06      4  1600000.0  1.011728e+06       2.5  1.125972e+06   \n",
       "3  1.125972e+06      3  1876000.0  1.011728e+06       2.5  1.125972e+06   \n",
       "4  1.125972e+06      2  1636000.0  1.011728e+06       2.5  1.125972e+06   \n",
       "\n",
       "   Bedroom2  Bathroom  Car  Landsize  ...    h    t    u   PI    S   SA   SP  \\\n",
       "0       2.0       1.0  0.0     156.0  ...  1.0  0.0  0.0  0.0  1.0  0.0  0.0   \n",
       "1       3.0       2.0  0.0     134.0  ...  1.0  0.0  0.0  0.0  0.0  0.0  1.0   \n",
       "2       3.0       1.0  2.0     120.0  ...  1.0  0.0  0.0  0.0  0.0  0.0  0.0   \n",
       "3       4.0       2.0  0.0     245.0  ...  1.0  0.0  0.0  0.0  1.0  0.0  0.0   \n",
       "4       2.0       1.0  2.0     256.0  ...  1.0  0.0  0.0  0.0  1.0  0.0  0.0   \n",
       "\n",
       "    VB  sold_years_ago  years_old  \n",
       "0  0.0               7      123.0  \n",
       "1  0.0               6      123.0  \n",
       "2  1.0               7        9.0  \n",
       "3  0.0               7      113.0  \n",
       "4  0.0               7      133.0  \n",
       "\n",
       "[5 rows x 26 columns]"
      ]
     },
     "execution_count": 10,
     "metadata": {},
     "output_type": "execute_result"
    }
   ],
   "source": [
    "df = df.drop(['Address','Type','Method','Date','YearBuilt'],axis = 1)\n",
    "\n",
    "# now, lets take a look at the final dataset \n",
    "df.head()"
   ]
  },
  {
   "cell_type": "markdown",
   "id": "eba54e62",
   "metadata": {
    "papermill": {
     "duration": 0.00835,
     "end_time": "2023-01-03T19:53:43.692975",
     "exception": false,
     "start_time": "2023-01-03T19:53:43.684625",
     "status": "completed"
    },
    "tags": []
   },
   "source": [
    "# Using The Final Dataset"
   ]
  },
  {
   "cell_type": "markdown",
   "id": "ff4ea3b9",
   "metadata": {
    "papermill": {
     "duration": 0.008297,
     "end_time": "2023-01-03T19:53:43.709857",
     "exception": false,
     "start_time": "2023-01-03T19:53:43.701560",
     "status": "completed"
    },
    "tags": []
   },
   "source": [
    "Let's use all the data and see the result. "
   ]
  },
  {
   "cell_type": "code",
   "execution_count": 11,
   "id": "972822ce",
   "metadata": {
    "execution": {
     "iopub.execute_input": "2023-01-03T19:53:43.729162Z",
     "iopub.status.busy": "2023-01-03T19:53:43.728722Z",
     "iopub.status.idle": "2023-01-03T19:53:47.421669Z",
     "shell.execute_reply": "2023-01-03T19:53:47.420541Z"
    },
    "papermill": {
     "duration": 3.705672,
     "end_time": "2023-01-03T19:53:47.424071",
     "exception": false,
     "start_time": "2023-01-03T19:53:43.718399",
     "status": "completed"
    },
    "tags": []
   },
   "outputs": [
    {
     "data": {
      "text/plain": [
       "164897.82257800733"
      ]
     },
     "execution_count": 11,
     "metadata": {},
     "output_type": "execute_result"
    }
   ],
   "source": [
    "# making training and testing dataset\n",
    "X = df.loc[:,df.columns != 'Price']\n",
    "y = df.Price\n",
    "train_X, test_X, train_y, test_y = train_test_split(X, y, random_state = 1)\n",
    "reg = RandomForestRegressor(random_state = 1,n_estimators = 100).fit(train_X,train_y)\n",
    "predicted_y = reg.predict(test_X)\n",
    "mean_absolute_error(test_y, predicted_y)"
   ]
  },
  {
   "cell_type": "markdown",
   "id": "385e5385",
   "metadata": {
    "papermill": {
     "duration": 0.008695,
     "end_time": "2023-01-03T19:53:47.441876",
     "exception": false,
     "start_time": "2023-01-03T19:53:47.433181",
     "status": "completed"
    },
    "tags": []
   },
   "source": [
    "# Conclusion\n",
    "\n",
    "The result is a little bit better. We could definitely improve it  by selecting only some useful features, tuning the hyperparameters for the model, smoothing the target encoded data and maybe few other processes. In this notebook, we just saw how we can implement One Hot and Target encoding to handle categorical data.  "
   ]
  }
 ],
 "metadata": {
  "kernelspec": {
   "display_name": "Python 3 (ipykernel)",
   "language": "python",
   "name": "python3"
  },
  "language_info": {
   "codemirror_mode": {
    "name": "ipython",
    "version": 3
   },
   "file_extension": ".py",
   "mimetype": "text/x-python",
   "name": "python",
   "nbconvert_exporter": "python",
   "pygments_lexer": "ipython3",
   "version": "3.11.0"
  },
  "papermill": {
   "default_parameters": {},
   "duration": 17.609238,
   "end_time": "2023-01-03T19:53:48.171821",
   "environment_variables": {},
   "exception": null,
   "input_path": "__notebook__.ipynb",
   "output_path": "__notebook__.ipynb",
   "parameters": {},
   "start_time": "2023-01-03T19:53:30.562583",
   "version": "2.3.4"
  }
 },
 "nbformat": 4,
 "nbformat_minor": 5
}
